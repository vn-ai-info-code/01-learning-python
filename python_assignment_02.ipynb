{
 "cells": [
  {
   "cell_type": "markdown",
   "metadata": {},
   "source": [
    "### 1. Create the below pattern using nested for loop in Python.\n",
    "\n",
    "*\n",
    "* *\n",
    "* * *\n",
    "* * * *\n",
    "* * * * *\n",
    "* * * *\n",
    "* * *\n",
    "* *\n",
    "*"
   ]
  },
  {
   "cell_type": "code",
   "execution_count": 2,
   "metadata": {},
   "outputs": [
    {
     "name": "stdout",
     "output_type": "stream",
     "text": [
      " * \r\n",
      " *  * \r\n",
      " *  *  * \r\n",
      " *  *  *  * \r\n",
      " *  *  *  *  * \r\n",
      " *  *  *  * \r\n",
      " *  *  * \r\n",
      " *  * \r\n",
      " * \r\n"
     ]
    }
   ],
   "source": [
    "n = 4\n",
    "\n",
    "for i in range(0, n):\n",
    "    for j in range(0, i + 1) :\n",
    "        print(\" * \" , end = \"\")\n",
    "    print(\"\\r\")\n",
    "    \n",
    "i = n\n",
    "j = n\n",
    "\n",
    "for i in range(n , -1 , -1):\n",
    "    for j in range(i + 1, 0 , -1) :\n",
    "        print(\" * \" , end = \"\")\n",
    "    print(\"\\r\")"
   ]
  },
  {
   "cell_type": "markdown",
   "metadata": {},
   "source": [
    "### 2. Write a Python program to reverse a word after accepting the input from the user.\n",
    "\n",
    "#### Input word: mytext\n",
    "#### Output: txetym"
   ]
  },
  {
   "cell_type": "code",
   "execution_count": 3,
   "metadata": {},
   "outputs": [
    {
     "name": "stdout",
     "output_type": "stream",
     "text": [
      "Please Enter a Word\n",
      "ineuron\n",
      "\n",
      "Input Word : \"mytext\"\n",
      "Output Word : \"txetym\"\n"
     ]
    }
   ],
   "source": [
    "print(\"Please Enter a Word\")\n",
    "varUserInput = input()\n",
    "\n",
    "print(f'\\nInput Word : \"{varUserInput}\"')\n",
    "print(f'Output Word : \"{varUserInput[::-1]}\"')"
   ]
  }
 ],
 "metadata": {
  "kernelspec": {
   "display_name": "Python 3",
   "language": "python",
   "name": "python3"
  },
  "language_info": {
   "codemirror_mode": {
    "name": "ipython",
    "version": 3
   },
   "file_extension": ".py",
   "mimetype": "text/x-python",
   "name": "python",
   "nbconvert_exporter": "python",
   "pygments_lexer": "ipython3",
   "version": "3.8.5"
  }
 },
 "nbformat": 4,
 "nbformat_minor": 4
}
